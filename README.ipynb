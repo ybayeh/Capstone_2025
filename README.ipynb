{
 "cells": [
  {
   "cell_type": "markdown",
   "id": "4aa76e26-77ae-4103-bade-6715b6a2d09f",
   "metadata": {},
   "source": [
    "# Crime Trend Analysis: The City of New Orleans\n",
    "    \n",
    "**Motivation**\n",
    "\n",
    "Crime, in any form, can happen anywhere in the world with some sort of difference in the spread (geographically within a certain administrative boundary) and in type. As a person from the so-called underdeveloped country, I did not expect to experience a relatively higher rate of prevalence of crime in the United States of America (U.S.A.) as compared to the experience I had in my country, Ethiopia. Because my assumption was that since U.S.A. is an advanced and a powerful nation in terms of technological and economic advancements, I was expecting that the prevalence of crime would relatively be very minimal. \n",
    "\n",
    "The type of crime that strikes me most is the targeted shootings and killings happening in educational institutions (schools and colleges) and in churches. I have never heard of a crime of this type happened in my country. In fact, there is a fight between freedom fighters and government troops that affects the safety and security of civilians in many ways. \n",
    "\n",
    "Therefore, the objective of this analysis was to examine the trend of electronic police reporting in eight districts of the City of New Orleans aiming at answering the following questions.\n",
    "\n",
    "* Is there an increase or decrease in the trend of crime reporting?\n",
    "* What is the race composition of offenders and victims?\n",
    "* Is there any death incident?\n",
    "\n",
    "The Power Bi dashboard report provides the information generated during the analysis that invetsigates the questions lised above. The data used for this project was obtained from the United States government's open data site, Data.gov. It was collected and provided to the site by the City of New Orleans Police department.\n",
    "\n",
    "**Technologies Used**\n",
    "\n",
    "A combination of several technologies or softwares have been used to pocess the data used in this project. Most of the cleaning and standardization of data was accomplished using Microsoft Excel and Python. Power Bi has also been used to clean up some part of the data. The preparation of reports and visuals was accomplished using Power Bi.\n",
    "\n",
    "**Data**\n",
    "\n",
    "A CSV data file was obtained from the government's open data source. The 2022 and 2025 datasets were selected to fulfill the objective of the project. For details of the results of the analysis, please refer to the link provided below.\n",
    "\n",
    "**Problems and Challenges**\n",
    "\n",
    "The first challenge was related to finding the appropriate data that could help meet the intended objective of the project. Ater going through several online sources, I was able to find the one that I was looking for in the government's open data source. The second and more challenging and time consuming problem was related to the cleaning and organizing data. The way some of the fields and data values presneted in the data set were formatted was not consistent. \n",
    "\n",
    "**Link to The Dashboard**\n",
    "\n",
    "<a href = \"https://app.powerbi.com/view?r=eyJrIjoiZGRmMjAxMDctMDJiMy00MzUxLWIyOGItYTA5ZDIzMzQ0MmExIiwidCI6IjEwMWRhNTg3LTE4NDMtNGY1Mi04YjhhLTE3YjA2OWM2NmQzMyIsImMiOjJ9\"> Crime Trend Analysis</a>\n",
    "\n",
    "\n",
    "\n",
    "\n",
    "\n",
    "\n",
    "\n",
    "\n",
    "\n"
   ]
  },
  {
   "cell_type": "code",
   "execution_count": null,
   "id": "a1b5a20d-867b-4f0d-b6b2-529dcf62d24d",
   "metadata": {},
   "outputs": [],
   "source": []
  }
 ],
 "metadata": {
  "kernelspec": {
   "display_name": "Python [conda env:base] *",
   "language": "python",
   "name": "conda-base-py"
  },
  "language_info": {
   "codemirror_mode": {
    "name": "ipython",
    "version": 3
   },
   "file_extension": ".py",
   "mimetype": "text/x-python",
   "name": "python",
   "nbconvert_exporter": "python",
   "pygments_lexer": "ipython3",
   "version": "3.13.5"
  }
 },
 "nbformat": 4,
 "nbformat_minor": 5
}
