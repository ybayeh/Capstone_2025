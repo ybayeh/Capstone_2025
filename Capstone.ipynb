{
 "cells": [
  {
   "cell_type": "code",
   "execution_count": 1,
   "id": "d4fbd8a8-29ec-4ddc-b3d0-6f5afc550833",
   "metadata": {},
   "outputs": [],
   "source": [
    "import pandas as pd\n",
    "import numpy as np\n",
    "import matplotlib.pyplot as plt\n",
    "import seaborn as sns\n",
    "from datetime import datetime"
   ]
  },
  {
   "cell_type": "markdown",
   "id": "4d1d650a-4ae7-4098-ae0c-5e05e734c377",
   "metadata": {},
   "source": [
    "# Crime Trend Analysis: The City of New Orleans (2022 and 2025)"
   ]
  },
  {
   "cell_type": "markdown",
   "id": "8bb980ac-7448-4932-a734-9b19f10a59f6",
   "metadata": {},
   "source": [
    "## 1.1 Importing and cleaning data - Report 2025"
   ]
  },
  {
   "cell_type": "code",
   "execution_count": 2,
   "id": "90cde289-a263-4a47-96ba-efc239d4ee1c",
   "metadata": {},
   "outputs": [],
   "source": [
    "report_2025 = pd.read_csv('../data/report_2025.csv')"
   ]
  },
  {
   "cell_type": "code",
   "execution_count": 3,
   "id": "af264312-0f1b-4a5f-ad84-fb3ebd02033f",
   "metadata": {},
   "outputs": [
    {
     "data": {
      "text/html": [
       "<div>\n",
       "<style scoped>\n",
       "    .dataframe tbody tr th:only-of-type {\n",
       "        vertical-align: middle;\n",
       "    }\n",
       "\n",
       "    .dataframe tbody tr th {\n",
       "        vertical-align: top;\n",
       "    }\n",
       "\n",
       "    .dataframe thead th {\n",
       "        text-align: right;\n",
       "    }\n",
       "</style>\n",
       "<table border=\"1\" class=\"dataframe\">\n",
       "  <thead>\n",
       "    <tr style=\"text-align: right;\">\n",
       "      <th></th>\n",
       "      <th>Item_Number</th>\n",
       "      <th>Year</th>\n",
       "      <th>District</th>\n",
       "      <th>Location</th>\n",
       "      <th>Disposition</th>\n",
       "      <th>Signal_Type</th>\n",
       "      <th>Signal_Description</th>\n",
       "      <th>Occurred_Date_Time</th>\n",
       "      <th>Date</th>\n",
       "      <th>Month</th>\n",
       "      <th>...</th>\n",
       "      <th>Offender_Gender</th>\n",
       "      <th>Offender_Age</th>\n",
       "      <th>Victim_Number</th>\n",
       "      <th>Person_Type</th>\n",
       "      <th>Victim_Race</th>\n",
       "      <th>Victim_Gender</th>\n",
       "      <th>Victim_Age</th>\n",
       "      <th>Victim_Fatal_Status</th>\n",
       "      <th>Hate_Crime</th>\n",
       "      <th>Report_Type</th>\n",
       "    </tr>\n",
       "  </thead>\n",
       "  <tbody>\n",
       "    <tr>\n",
       "      <th>0</th>\n",
       "      <td>H-11186-25</td>\n",
       "      <td>2025</td>\n",
       "      <td>5</td>\n",
       "      <td>014XX Montegut St</td>\n",
       "      <td>OPEN</td>\n",
       "      <td>62C</td>\n",
       "      <td>SIMPLE BURGLARY (VEHICLE)</td>\n",
       "      <td>8/10/2025 10:30</td>\n",
       "      <td>8/10/2025</td>\n",
       "      <td>August</td>\n",
       "      <td>...</td>\n",
       "      <td>MALE</td>\n",
       "      <td>0</td>\n",
       "      <td>2.0</td>\n",
       "      <td>VICTIM</td>\n",
       "      <td>BLACK</td>\n",
       "      <td>MALE</td>\n",
       "      <td>46</td>\n",
       "      <td>Non-fatal</td>\n",
       "      <td>Unknown</td>\n",
       "      <td>Incident Report</td>\n",
       "    </tr>\n",
       "    <tr>\n",
       "      <th>1</th>\n",
       "      <td>H-11186-25</td>\n",
       "      <td>2025</td>\n",
       "      <td>5</td>\n",
       "      <td>014XX Montegut St</td>\n",
       "      <td>OPEN</td>\n",
       "      <td>62C</td>\n",
       "      <td>SIMPLE BURGLARY (VEHICLE)</td>\n",
       "      <td>8/10/2025 10:30</td>\n",
       "      <td>8/10/2025</td>\n",
       "      <td>August</td>\n",
       "      <td>...</td>\n",
       "      <td>MALE</td>\n",
       "      <td>0</td>\n",
       "      <td>2.0</td>\n",
       "      <td>VICTIM</td>\n",
       "      <td>BLACK</td>\n",
       "      <td>MALE</td>\n",
       "      <td>46</td>\n",
       "      <td>Non-fatal</td>\n",
       "      <td>Unknown</td>\n",
       "      <td>Incident Report</td>\n",
       "    </tr>\n",
       "  </tbody>\n",
       "</table>\n",
       "<p>2 rows × 28 columns</p>\n",
       "</div>"
      ],
      "text/plain": [
       "  Item_Number  Year  District           Location Disposition Signal_Type  \\\n",
       "0  H-11186-25  2025         5  014XX Montegut St        OPEN         62C   \n",
       "1  H-11186-25  2025         5  014XX Montegut St        OPEN         62C   \n",
       "\n",
       "          Signal_Description Occurred_Date_Time       Date   Month  ...  \\\n",
       "0  SIMPLE BURGLARY (VEHICLE)    8/10/2025 10:30  8/10/2025  August  ...   \n",
       "1  SIMPLE BURGLARY (VEHICLE)    8/10/2025 10:30  8/10/2025  August  ...   \n",
       "\n",
       "   Offender_Gender Offender_Age Victim_Number Person_Type  Victim_Race  \\\n",
       "0             MALE            0           2.0      VICTIM        BLACK   \n",
       "1             MALE            0           2.0      VICTIM        BLACK   \n",
       "\n",
       "  Victim_Gender Victim_Age Victim_Fatal_Status Hate_Crime      Report_Type  \n",
       "0          MALE         46           Non-fatal    Unknown  Incident Report  \n",
       "1          MALE         46           Non-fatal    Unknown  Incident Report  \n",
       "\n",
       "[2 rows x 28 columns]"
      ]
     },
     "execution_count": 3,
     "metadata": {},
     "output_type": "execute_result"
    }
   ],
   "source": [
    "report_2025.head(2)"
   ]
  },
  {
   "cell_type": "code",
   "execution_count": 4,
   "id": "5dcb9712-b764-47de-bfc8-18cd9dd98909",
   "metadata": {},
   "outputs": [],
   "source": [
    "# Standardizing (renaming) columns\n",
    "report_2025=report_2025.rename(columns={'Item_Number': 'Report_Number', 'Occurred_Date_Time': 'Occurred_Date'})"
   ]
  },
  {
   "cell_type": "code",
   "execution_count": 5,
   "id": "ceaca0ef-412e-4227-8c73-609ad46a8ded",
   "metadata": {},
   "outputs": [],
   "source": [
    "#Converting datatype\n",
    "report_2025['District'] = report_2025['District'].astype(str)"
   ]
  },
  {
   "cell_type": "code",
   "execution_count": 6,
   "id": "2b9e363d-f5c4-4761-85fe-6ebbb2ed4b2b",
   "metadata": {},
   "outputs": [],
   "source": [
    "report_2025['Occurred_Date'] = pd.to_datetime(report_2025['Occurred_Date'])"
   ]
  },
  {
   "cell_type": "code",
   "execution_count": 7,
   "id": "96999201-9712-44dd-a35b-71eb9fda9dff",
   "metadata": {},
   "outputs": [],
   "source": [
    "report_2025['Date'] = pd.to_datetime(report_2025['Date'])"
   ]
  },
  {
   "cell_type": "code",
   "execution_count": 8,
   "id": "289fbc2b-172e-450e-a37f-5bf24ef02408",
   "metadata": {},
   "outputs": [
    {
     "data": {
      "text/plain": [
       "(64500, 28)"
      ]
     },
     "execution_count": 8,
     "metadata": {},
     "output_type": "execute_result"
    }
   ],
   "source": [
    "report_2025.shape"
   ]
  },
  {
   "cell_type": "code",
   "execution_count": 9,
   "id": "59929dd9-e0d4-4562-8050-4231fdbe6dd6",
   "metadata": {},
   "outputs": [
    {
     "name": "stdout",
     "output_type": "stream",
     "text": [
      "<class 'pandas.core.frame.DataFrame'>\n",
      "RangeIndex: 64500 entries, 0 to 64499\n",
      "Data columns (total 28 columns):\n",
      " #   Column               Non-Null Count  Dtype         \n",
      "---  ------               --------------  -----         \n",
      " 0   Report_Number        64500 non-null  object        \n",
      " 1   Year                 64500 non-null  int64         \n",
      " 2   District             64500 non-null  object        \n",
      " 3   Location             64500 non-null  object        \n",
      " 4   Disposition          64500 non-null  object        \n",
      " 5   Signal_Type          64500 non-null  object        \n",
      " 6   Signal_Description   64500 non-null  object        \n",
      " 7   Occurred_Date        64500 non-null  datetime64[ns]\n",
      " 8   Date                 64500 non-null  datetime64[ns]\n",
      " 9   Month                64500 non-null  object        \n",
      " 10  Month_Number         64500 non-null  int64         \n",
      " 11  Day                  64500 non-null  object        \n",
      " 12  Charge_Code          64500 non-null  object        \n",
      " 13  Charge_Description   64500 non-null  object        \n",
      " 14  Offender_Number      35434 non-null  float64       \n",
      " 15  Offender_ID          64500 non-null  object        \n",
      " 16  Offender_Status      64500 non-null  object        \n",
      " 17  Offender_Race        64500 non-null  object        \n",
      " 18  Offender_Gender      64500 non-null  object        \n",
      " 19  Offender_Age         64500 non-null  int64         \n",
      " 20  Victim_Number        63088 non-null  float64       \n",
      " 21  Person_Type          64500 non-null  object        \n",
      " 22  Victim_Race          64500 non-null  object        \n",
      " 23  Victim_Gender        64500 non-null  object        \n",
      " 24  Victim_Age           64500 non-null  int64         \n",
      " 25  Victim_Fatal_Status  64500 non-null  object        \n",
      " 26  Hate_Crime           2245 non-null   object        \n",
      " 27  Report_Type          64500 non-null  object        \n",
      "dtypes: datetime64[ns](2), float64(2), int64(4), object(20)\n",
      "memory usage: 13.8+ MB\n"
     ]
    }
   ],
   "source": [
    "report_2025.info()"
   ]
  },
  {
   "cell_type": "markdown",
   "id": "4162558a-623a-4b56-94a9-31fe13cb036a",
   "metadata": {},
   "source": [
    "## 1.2 Importing and cleaning data - Report 2022"
   ]
  },
  {
   "cell_type": "code",
   "execution_count": 10,
   "id": "6a49aa8f-39bc-4895-8ea4-506e7b1e4054",
   "metadata": {},
   "outputs": [],
   "source": [
    "report_2022 = pd.read_csv('../data/report_2022.csv')"
   ]
  },
  {
   "cell_type": "code",
   "execution_count": 11,
   "id": "8c5de104-8c57-4899-ac4d-c5006279384b",
   "metadata": {},
   "outputs": [
    {
     "data": {
      "text/html": [
       "<div>\n",
       "<style scoped>\n",
       "    .dataframe tbody tr th:only-of-type {\n",
       "        vertical-align: middle;\n",
       "    }\n",
       "\n",
       "    .dataframe tbody tr th {\n",
       "        vertical-align: top;\n",
       "    }\n",
       "\n",
       "    .dataframe thead th {\n",
       "        text-align: right;\n",
       "    }\n",
       "</style>\n",
       "<table border=\"1\" class=\"dataframe\">\n",
       "  <thead>\n",
       "    <tr style=\"text-align: right;\">\n",
       "      <th></th>\n",
       "      <th>Item_Number</th>\n",
       "      <th>Year</th>\n",
       "      <th>District</th>\n",
       "      <th>Location</th>\n",
       "      <th>Disposition</th>\n",
       "      <th>Signal_Type</th>\n",
       "      <th>Signal_Description</th>\n",
       "      <th>Occurred_Date_Time</th>\n",
       "      <th>Date</th>\n",
       "      <th>Month</th>\n",
       "      <th>...</th>\n",
       "      <th>Offender_Gender</th>\n",
       "      <th>Offender_Age</th>\n",
       "      <th>Victim_Number</th>\n",
       "      <th>Person_Type</th>\n",
       "      <th>Victim_Race</th>\n",
       "      <th>Victim_Gender</th>\n",
       "      <th>Victim_Age</th>\n",
       "      <th>Victim_Fatal_Status</th>\n",
       "      <th>Hate_Crime</th>\n",
       "      <th>Report_Type</th>\n",
       "    </tr>\n",
       "  </thead>\n",
       "  <tbody>\n",
       "    <tr>\n",
       "      <th>0</th>\n",
       "      <td>B-12830-22</td>\n",
       "      <td>2022</td>\n",
       "      <td>7</td>\n",
       "      <td>047XX Lynhuber</td>\n",
       "      <td>CLOSED</td>\n",
       "      <td>65</td>\n",
       "      <td>SIMPLE ROBBERY</td>\n",
       "      <td>2/10/2022 23:50</td>\n",
       "      <td>2/10/2022</td>\n",
       "      <td>February</td>\n",
       "      <td>...</td>\n",
       "      <td>MALE</td>\n",
       "      <td>32.0</td>\n",
       "      <td>1.0</td>\n",
       "      <td>VICTIM</td>\n",
       "      <td>BLACK</td>\n",
       "      <td>FEMALE</td>\n",
       "      <td>28.0</td>\n",
       "      <td>Non-fatal</td>\n",
       "      <td>Unknown</td>\n",
       "      <td>Supplemental Report</td>\n",
       "    </tr>\n",
       "    <tr>\n",
       "      <th>1</th>\n",
       "      <td>B-12830-22</td>\n",
       "      <td>2022</td>\n",
       "      <td>7</td>\n",
       "      <td>047XX Lynhuber</td>\n",
       "      <td>CLOSED</td>\n",
       "      <td>65</td>\n",
       "      <td>SIMPLE ROBBERY</td>\n",
       "      <td>2/10/2022 23:50</td>\n",
       "      <td>2/10/2022</td>\n",
       "      <td>February</td>\n",
       "      <td>...</td>\n",
       "      <td>MALE</td>\n",
       "      <td>32.0</td>\n",
       "      <td>2.0</td>\n",
       "      <td>VICTIM</td>\n",
       "      <td>Unknown</td>\n",
       "      <td>Unknown</td>\n",
       "      <td>0.0</td>\n",
       "      <td>Non-fatal</td>\n",
       "      <td>Unknown</td>\n",
       "      <td>Supplemental Report</td>\n",
       "    </tr>\n",
       "  </tbody>\n",
       "</table>\n",
       "<p>2 rows × 28 columns</p>\n",
       "</div>"
      ],
      "text/plain": [
       "  Item_Number  Year  District        Location Disposition Signal_Type  \\\n",
       "0  B-12830-22  2022         7  047XX Lynhuber      CLOSED          65   \n",
       "1  B-12830-22  2022         7  047XX Lynhuber      CLOSED          65   \n",
       "\n",
       "  Signal_Description Occurred_Date_Time       Date     Month  ...  \\\n",
       "0     SIMPLE ROBBERY    2/10/2022 23:50  2/10/2022  February  ...   \n",
       "1     SIMPLE ROBBERY    2/10/2022 23:50  2/10/2022  February  ...   \n",
       "\n",
       "   Offender_Gender Offender_Age Victim_Number Person_Type  Victim_Race  \\\n",
       "0             MALE         32.0           1.0      VICTIM        BLACK   \n",
       "1             MALE         32.0           2.0      VICTIM      Unknown   \n",
       "\n",
       "  Victim_Gender Victim_Age Victim_Fatal_Status Hate_Crime          Report_Type  \n",
       "0        FEMALE       28.0           Non-fatal    Unknown  Supplemental Report  \n",
       "1       Unknown        0.0           Non-fatal    Unknown  Supplemental Report  \n",
       "\n",
       "[2 rows x 28 columns]"
      ]
     },
     "execution_count": 11,
     "metadata": {},
     "output_type": "execute_result"
    }
   ],
   "source": [
    "report_2022.head(2)"
   ]
  },
  {
   "cell_type": "code",
   "execution_count": 12,
   "id": "57af670e-d41f-4fba-9af5-db80522a1aa5",
   "metadata": {},
   "outputs": [
    {
     "data": {
      "text/plain": [
       "(117272, 28)"
      ]
     },
     "execution_count": 12,
     "metadata": {},
     "output_type": "execute_result"
    }
   ],
   "source": [
    "report_2022.shape"
   ]
  },
  {
   "cell_type": "code",
   "execution_count": 13,
   "id": "ccb1d99a-d8c0-43b4-bf57-d0481d4168a7",
   "metadata": {},
   "outputs": [],
   "source": [
    "# Standardizing (renaming) columns\n",
    "report_2022=report_2022.rename(columns={'Item_Number': 'Report_Number', 'Occurred_Date_Time': 'Occurred_Date'})"
   ]
  },
  {
   "cell_type": "code",
   "execution_count": 14,
   "id": "eecba155-7df1-48ec-a6a7-632d9beb1b7c",
   "metadata": {},
   "outputs": [],
   "source": [
    "#Converting datatype\n",
    "report_2022['District'] = report_2022['District'].astype(str)"
   ]
  },
  {
   "cell_type": "code",
   "execution_count": 15,
   "id": "48d8ca07-a351-41fd-9309-2153cda39ed9",
   "metadata": {},
   "outputs": [],
   "source": [
    "#Converting date to datetime \n",
    "report_2022['Occurred_Date'] = pd.to_datetime(report_2022['Occurred_Date'], errors='coerce')"
   ]
  },
  {
   "cell_type": "code",
   "execution_count": 16,
   "id": "f60937bc-8924-4d44-9f92-bbbd5d79411b",
   "metadata": {},
   "outputs": [],
   "source": [
    "report_2022['Date'] = pd.to_datetime(report_2022['Date'], errors='coerce')"
   ]
  },
  {
   "cell_type": "code",
   "execution_count": 17,
   "id": "cd97ec5f-882a-4897-b846-4bcc93c4de6c",
   "metadata": {},
   "outputs": [],
   "source": [
    "report_2022['Date'] = pd.to_datetime(report_2022['Date'])"
   ]
  },
  {
   "cell_type": "code",
   "execution_count": 18,
   "id": "45b2e297-4c07-4c43-b9b7-1a40b3ca0dc4",
   "metadata": {},
   "outputs": [
    {
     "name": "stdout",
     "output_type": "stream",
     "text": [
      "<class 'pandas.core.frame.DataFrame'>\n",
      "RangeIndex: 117272 entries, 0 to 117271\n",
      "Data columns (total 28 columns):\n",
      " #   Column               Non-Null Count   Dtype         \n",
      "---  ------               --------------   -----         \n",
      " 0   Report_Number        117272 non-null  object        \n",
      " 1   Year                 117272 non-null  int64         \n",
      " 2   District             117272 non-null  object        \n",
      " 3   Location             117272 non-null  object        \n",
      " 4   Disposition          117272 non-null  object        \n",
      " 5   Signal_Type          117272 non-null  object        \n",
      " 6   Signal_Description   117272 non-null  object        \n",
      " 7   Occurred_Date        117264 non-null  datetime64[ns]\n",
      " 8   Date                 117264 non-null  datetime64[ns]\n",
      " 9   Month                117272 non-null  object        \n",
      " 10  Month_Number         117272 non-null  int64         \n",
      " 11  Day                  117272 non-null  object        \n",
      " 12  Charge_Code          117272 non-null  object        \n",
      " 13  Charge_Description   117272 non-null  object        \n",
      " 14  Offender_Number      78519 non-null   float64       \n",
      " 15  Offender_ID          117272 non-null  object        \n",
      " 16  Offender_Status      117272 non-null  object        \n",
      " 17  Offender_Race        117272 non-null  object        \n",
      " 18  Offender_Gender      117272 non-null  object        \n",
      " 19  Offender_Age         44344 non-null   float64       \n",
      " 20  Victim_Number        113533 non-null  float64       \n",
      " 21  Person_Type          117272 non-null  object        \n",
      " 22  Victim_Race          117272 non-null  object        \n",
      " 23  Victim_Gender        117272 non-null  object        \n",
      " 24  Victim_Age           94975 non-null   float64       \n",
      " 25  Victim_Fatal_Status  117272 non-null  object        \n",
      " 26  Hate_Crime           117272 non-null  object        \n",
      " 27  Report_Type          117272 non-null  object        \n",
      "dtypes: datetime64[ns](2), float64(4), int64(2), object(20)\n",
      "memory usage: 25.1+ MB\n"
     ]
    }
   ],
   "source": [
    "report_2022.info()"
   ]
  },
  {
   "cell_type": "markdown",
   "id": "2dc744ba-91ad-4ec7-b5f6-f0be128177ae",
   "metadata": {},
   "source": [
    "## 1.3 Merging report 2022 and report 2025"
   ]
  },
  {
   "cell_type": "code",
   "execution_count": 19,
   "id": "2d81764e-930c-47ca-8f1e-f40a2277d117",
   "metadata": {},
   "outputs": [],
   "source": [
    "merged_report = pd.concat([report_2022, report_2025], axis=0, ignore_index=True)"
   ]
  },
  {
   "cell_type": "code",
   "execution_count": 20,
   "id": "36204f3a-87d7-4c70-a3c9-a29ef400fa3a",
   "metadata": {},
   "outputs": [
    {
     "data": {
      "text/html": [
       "<div>\n",
       "<style scoped>\n",
       "    .dataframe tbody tr th:only-of-type {\n",
       "        vertical-align: middle;\n",
       "    }\n",
       "\n",
       "    .dataframe tbody tr th {\n",
       "        vertical-align: top;\n",
       "    }\n",
       "\n",
       "    .dataframe thead th {\n",
       "        text-align: right;\n",
       "    }\n",
       "</style>\n",
       "<table border=\"1\" class=\"dataframe\">\n",
       "  <thead>\n",
       "    <tr style=\"text-align: right;\">\n",
       "      <th></th>\n",
       "      <th>Report_Number</th>\n",
       "      <th>Year</th>\n",
       "      <th>District</th>\n",
       "      <th>Location</th>\n",
       "      <th>Disposition</th>\n",
       "      <th>Signal_Type</th>\n",
       "      <th>Signal_Description</th>\n",
       "      <th>Occurred_Date</th>\n",
       "      <th>Date</th>\n",
       "      <th>Month</th>\n",
       "      <th>...</th>\n",
       "      <th>Offender_Gender</th>\n",
       "      <th>Offender_Age</th>\n",
       "      <th>Victim_Number</th>\n",
       "      <th>Person_Type</th>\n",
       "      <th>Victim_Race</th>\n",
       "      <th>Victim_Gender</th>\n",
       "      <th>Victim_Age</th>\n",
       "      <th>Victim_Fatal_Status</th>\n",
       "      <th>Hate_Crime</th>\n",
       "      <th>Report_Type</th>\n",
       "    </tr>\n",
       "  </thead>\n",
       "  <tbody>\n",
       "    <tr>\n",
       "      <th>0</th>\n",
       "      <td>B-12830-22</td>\n",
       "      <td>2022</td>\n",
       "      <td>7</td>\n",
       "      <td>047XX Lynhuber</td>\n",
       "      <td>CLOSED</td>\n",
       "      <td>65</td>\n",
       "      <td>SIMPLE ROBBERY</td>\n",
       "      <td>2022-02-10 23:50:00</td>\n",
       "      <td>2022-02-10</td>\n",
       "      <td>February</td>\n",
       "      <td>...</td>\n",
       "      <td>MALE</td>\n",
       "      <td>32.0</td>\n",
       "      <td>1.0</td>\n",
       "      <td>VICTIM</td>\n",
       "      <td>BLACK</td>\n",
       "      <td>FEMALE</td>\n",
       "      <td>28.0</td>\n",
       "      <td>Non-fatal</td>\n",
       "      <td>Unknown</td>\n",
       "      <td>Supplemental Report</td>\n",
       "    </tr>\n",
       "    <tr>\n",
       "      <th>1</th>\n",
       "      <td>B-12830-22</td>\n",
       "      <td>2022</td>\n",
       "      <td>7</td>\n",
       "      <td>047XX Lynhuber</td>\n",
       "      <td>CLOSED</td>\n",
       "      <td>65</td>\n",
       "      <td>SIMPLE ROBBERY</td>\n",
       "      <td>2022-02-10 23:50:00</td>\n",
       "      <td>2022-02-10</td>\n",
       "      <td>February</td>\n",
       "      <td>...</td>\n",
       "      <td>MALE</td>\n",
       "      <td>32.0</td>\n",
       "      <td>2.0</td>\n",
       "      <td>VICTIM</td>\n",
       "      <td>Unknown</td>\n",
       "      <td>Unknown</td>\n",
       "      <td>0.0</td>\n",
       "      <td>Non-fatal</td>\n",
       "      <td>Unknown</td>\n",
       "      <td>Supplemental Report</td>\n",
       "    </tr>\n",
       "  </tbody>\n",
       "</table>\n",
       "<p>2 rows × 28 columns</p>\n",
       "</div>"
      ],
      "text/plain": [
       "  Report_Number  Year District        Location Disposition Signal_Type  \\\n",
       "0    B-12830-22  2022        7  047XX Lynhuber      CLOSED          65   \n",
       "1    B-12830-22  2022        7  047XX Lynhuber      CLOSED          65   \n",
       "\n",
       "  Signal_Description       Occurred_Date       Date     Month  ...  \\\n",
       "0     SIMPLE ROBBERY 2022-02-10 23:50:00 2022-02-10  February  ...   \n",
       "1     SIMPLE ROBBERY 2022-02-10 23:50:00 2022-02-10  February  ...   \n",
       "\n",
       "   Offender_Gender Offender_Age Victim_Number Person_Type  Victim_Race  \\\n",
       "0             MALE         32.0           1.0      VICTIM        BLACK   \n",
       "1             MALE         32.0           2.0      VICTIM      Unknown   \n",
       "\n",
       "  Victim_Gender Victim_Age Victim_Fatal_Status Hate_Crime          Report_Type  \n",
       "0        FEMALE       28.0           Non-fatal    Unknown  Supplemental Report  \n",
       "1       Unknown        0.0           Non-fatal    Unknown  Supplemental Report  \n",
       "\n",
       "[2 rows x 28 columns]"
      ]
     },
     "execution_count": 20,
     "metadata": {},
     "output_type": "execute_result"
    }
   ],
   "source": [
    "merged_report.head(2)"
   ]
  },
  {
   "cell_type": "code",
   "execution_count": 21,
   "id": "d4e40dcd-9dba-4999-a768-a5e198eee8ac",
   "metadata": {},
   "outputs": [
    {
     "data": {
      "text/plain": [
       "(181772, 28)"
      ]
     },
     "execution_count": 21,
     "metadata": {},
     "output_type": "execute_result"
    }
   ],
   "source": [
    "merged_report.shape"
   ]
  },
  {
   "cell_type": "code",
   "execution_count": 22,
   "id": "16b3fdb3-54ee-4611-ad15-5d6d0ff7f146",
   "metadata": {},
   "outputs": [
    {
     "name": "stdout",
     "output_type": "stream",
     "text": [
      "<class 'pandas.core.frame.DataFrame'>\n",
      "RangeIndex: 181772 entries, 0 to 181771\n",
      "Data columns (total 28 columns):\n",
      " #   Column               Non-Null Count   Dtype         \n",
      "---  ------               --------------   -----         \n",
      " 0   Report_Number        181772 non-null  object        \n",
      " 1   Year                 181772 non-null  int64         \n",
      " 2   District             181772 non-null  object        \n",
      " 3   Location             181772 non-null  object        \n",
      " 4   Disposition          181772 non-null  object        \n",
      " 5   Signal_Type          181772 non-null  object        \n",
      " 6   Signal_Description   181772 non-null  object        \n",
      " 7   Occurred_Date        181764 non-null  datetime64[ns]\n",
      " 8   Date                 181764 non-null  datetime64[ns]\n",
      " 9   Month                181772 non-null  object        \n",
      " 10  Month_Number         181772 non-null  int64         \n",
      " 11  Day                  181772 non-null  object        \n",
      " 12  Charge_Code          181772 non-null  object        \n",
      " 13  Charge_Description   181772 non-null  object        \n",
      " 14  Offender_Number      113953 non-null  float64       \n",
      " 15  Offender_ID          181772 non-null  object        \n",
      " 16  Offender_Status      181772 non-null  object        \n",
      " 17  Offender_Race        181772 non-null  object        \n",
      " 18  Offender_Gender      181772 non-null  object        \n",
      " 19  Offender_Age         108844 non-null  float64       \n",
      " 20  Victim_Number        176621 non-null  float64       \n",
      " 21  Person_Type          181772 non-null  object        \n",
      " 22  Victim_Race          181772 non-null  object        \n",
      " 23  Victim_Gender        181772 non-null  object        \n",
      " 24  Victim_Age           159475 non-null  float64       \n",
      " 25  Victim_Fatal_Status  181772 non-null  object        \n",
      " 26  Hate_Crime           119517 non-null  object        \n",
      " 27  Report_Type          181772 non-null  object        \n",
      "dtypes: datetime64[ns](2), float64(4), int64(2), object(20)\n",
      "memory usage: 38.8+ MB\n"
     ]
    }
   ],
   "source": [
    "merged_report.info()"
   ]
  },
  {
   "cell_type": "code",
   "execution_count": 23,
   "id": "9002a629-8489-4dfe-9b9b-69663b7becb4",
   "metadata": {},
   "outputs": [],
   "source": [
    "#Removing duplicates based on column Report_Number\n",
    "merged_report_duplicates = merged_report.drop_duplicates(subset=['Report_Number'])"
   ]
  },
  {
   "cell_type": "code",
   "execution_count": 24,
   "id": "f4513c7b-07c2-4992-9a1b-503fc87fd492",
   "metadata": {},
   "outputs": [
    {
     "data": {
      "text/plain": [
       "(95007, 28)"
      ]
     },
     "execution_count": 24,
     "metadata": {},
     "output_type": "execute_result"
    }
   ],
   "source": [
    "merged_report_duplicates.shape"
   ]
  },
  {
   "cell_type": "markdown",
   "id": "3e717538-2af6-4fa8-9baf-7508ae1d64ad",
   "metadata": {},
   "source": [
    "## 1.4 Converting dataframe to a csv file"
   ]
  },
  {
   "cell_type": "code",
   "execution_count": 42,
   "id": "78e0bb4b-b007-48ff-94d2-525d50591188",
   "metadata": {},
   "outputs": [],
   "source": [
    "#Converting pandas dataframe to csv file\n",
    "merged_report_duplicates.to_csv(r'C:\\Users\\Yille\\DA15\\Capstone\\Capstone_2025\\data\\report_2022_2025.csv', index=False)"
   ]
  }
 ],
 "metadata": {
  "kernelspec": {
   "display_name": "Python [conda env:base] *",
   "language": "python",
   "name": "conda-base-py"
  },
  "language_info": {
   "codemirror_mode": {
    "name": "ipython",
    "version": 3
   },
   "file_extension": ".py",
   "mimetype": "text/x-python",
   "name": "python",
   "nbconvert_exporter": "python",
   "pygments_lexer": "ipython3",
   "version": "3.13.5"
  }
 },
 "nbformat": 4,
 "nbformat_minor": 5
}
